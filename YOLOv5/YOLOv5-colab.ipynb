{
  "cells": [
    {
      "cell_type": "markdown",
      "metadata": {},
      "source": [
        "<a href=\"https://prediktera.com\" target=\"_blank\">\n",
        "    <img width=\"255\" alt=\"Prediktera AB Breeze\" src=\"https://prediktera.com/wp/wp-content/uploads/2022/02/prediktera_breeze_darkmode.png\" style=\"background-color: black; border-radius: 25px;padding:10px;\"/>\n",
        "</a>\n",
        "<br />\n",
        "This is a sample tutorial for training your own YOLOv5 deep learning object detection network by Prediktera.\n",
        "\n",
        "See <a href=\"https://github.com/Prediktera/Train-Onnx-Image-Segmentation/issues/new\">GitHub</a> for community support or <a href=\"https://prediktera.com/contact-us\">contact us</a> for professional support."
      ]
    },
    {
      "cell_type": "markdown",
      "metadata": {},
      "source": [
        "# Training YOLOv5 on Colab"
      ]
    },
    {
      "cell_type": "markdown",
      "metadata": {
        "id": "pNY5cP_2GpTb"
      },
      "source": [
        "Create Folder in 'My Drive', let's call it 'project_folder'. Create folder 'datasets' in the new project folder. Import the data into 'datasets' (for example, a folder named 'NutType' with export data from Breeze)."
      ]
    },
    {
      "cell_type": "markdown",
      "metadata": {
        "id": "0nxd7hhO9n8u"
      },
      "source": [
        "project_folder/datasets/BreezeExample/images\n",
        "                                     /labels\n",
        "                                     /coco.names\n",
        "                                     /data.yaml"
      ]
    },
    {
      "cell_type": "markdown",
      "metadata": {
        "id": "n1OXmZCpMkqd"
      },
      "source": [
        "Install relevant dependencies, this may prompt you to restart the Runtime"
      ]
    },
    {
      "cell_type": "code",
      "execution_count": null,
      "metadata": {
        "id": "5ApJ3QQNludj"
      },
      "outputs": [],
      "source": [
        "%pip install -q torch onnx onnxruntime onnxruntime-gpu onnx-simplifier --extra-index-url https://download.pytorch.org/whl/cu116"
      ]
    },
    {
      "cell_type": "code",
      "execution_count": null,
      "metadata": {},
      "outputs": [],
      "source": [
        "!git clone https://github.com/ultralytics/yolov5 --depth 1\n",
        "%cd yolov5\n",
        "%pip install -qr requirements.txt"
      ]
    },
    {
      "cell_type": "code",
      "execution_count": null,
      "metadata": {},
      "outputs": [],
      "source": [
        "import torch\n",
        "import utils\n",
        "display = utils.notebook_init() "
      ]
    },
    {
      "cell_type": "markdown",
      "metadata": {
        "id": "52LbbSgdC96t"
      },
      "source": [
        "Go to Runtime menu and click 'Restart runtime' or a buttom above `RESTART RUNTIME`"
      ]
    },
    {
      "cell_type": "markdown",
      "metadata": {
        "id": "XXEqD45zNeIm"
      },
      "source": [
        "## For significantly faster training use the GPU type Runtime\n",
        "First, you'll need to enable GPUs for the notebook:\n",
        "\n",
        "*   Navigate to Edit→Notebook Settings\n",
        "*   select GPU from the Hardware Accelerator drop-down\n",
        "\n",
        "The training will still work without GPU but traning time will increase dramatically. \n",
        "\n",
        "Confirm that GPU is enabled with the code below."
      ]
    },
    {
      "cell_type": "code",
      "execution_count": null,
      "metadata": {
        "id": "2dC7lr5iNdg5"
      },
      "outputs": [],
      "source": [
        "import tensorflow as tf\n",
        "if tf.test.gpu_device_name() != '/device:GPU:0':\n",
        "  raise SystemError('GPU device not found')\n",
        "print('GPU Enabled')"
      ]
    },
    {
      "cell_type": "markdown",
      "metadata": {
        "id": "x4JJfADtFtRJ"
      },
      "source": [
        "## Perpare the data"
      ]
    },
    {
      "cell_type": "markdown",
      "metadata": {
        "id": "_1arddmWO16o"
      },
      "source": [
        "Enter data name and name of yaml file in the code cell below."
      ]
    },
    {
      "cell_type": "code",
      "execution_count": null,
      "metadata": {
        "id": "nJCF5u2lHnWQ"
      },
      "outputs": [],
      "source": [
        "# data name and name of yaml file\n",
        "data_name = 'NutType'\n",
        "yaml_name = 'data.yaml'\n",
        "project_folder = 'MyDrive/project_folder/datasets'\n",
        "google_drive_mount = '/content/gdrive'\n",
        "mounded_project_folder = google_drive_mount + '/' + project_folder\n",
        "data_set_folder = mounded_project_folder + '/' + data_name\n",
        "data_set_yaml_file = data_set_folder + '/data.yaml'\n",
        "runs_folder = 'runs'\n",
        "\n",
        "# Model information\n",
        "img_size = 96\n",
        "number_of_epochs = 300"
      ]
    },
    {
      "cell_type": "code",
      "execution_count": null,
      "metadata": {
        "id": "w1LEheluku1c"
      },
      "outputs": [],
      "source": [
        "from google.colab import drive\n",
        "drive.mount(google_drive_mount)"
      ]
    },
    {
      "cell_type": "markdown",
      "metadata": {
        "id": "3Xw3lriiPWqO"
      },
      "source": [
        "Fix paths in the YAML file, this is safe to run multiple times and will only update the paths if necessary"
      ]
    },
    {
      "cell_type": "code",
      "execution_count": null,
      "metadata": {
        "id": "DZeURekUJwBk"
      },
      "outputs": [],
      "source": [
        "# Fix location path in Yaml file\n",
        "import yaml\n",
        "\n",
        "with open(data_set_yaml_file, 'r+') as f:\n",
        "    data_list = yaml.load(f, Loader=yaml.FullLoader)\n",
        "    data_list['path'] = data_set_folder\n",
        "    yaml.dump(data_list, f)"
      ]
    },
    {
      "cell_type": "markdown",
      "metadata": {
        "id": "Qn21Q2GVFxeb"
      },
      "source": [
        "## Train the model"
      ]
    },
    {
      "cell_type": "markdown",
      "metadata": {
        "id": "hLjAGuVVPPJo"
      },
      "source": [
        "Train, export and validate the model using parameters set in the begining of the notebook"
      ]
    },
    {
      "cell_type": "code",
      "execution_count": null,
      "metadata": {
        "id": "JnbAnUeCb_Jz"
      },
      "outputs": [],
      "source": [
        "import shutil\n",
        "\n",
        "shutil.rmtree(runs_folder, ignore_errors=True, onerror=None)\n",
        "\n",
        "exp_folder = runs_folder + '/train/exp'\n",
        "exp_val_folder = runs_folder + '/val/exp'\n",
        "exp_best_w = exp_folder + \"/weights/best.pt\"\n",
        "exp_onnx = exp_folder + \"/weights/best.onnx\"\n",
        "\n",
        "!python train.py --imgsz $img_size --batch-size -1 --epochs $number_of_epochs --data $data_set_yaml_file --weights yolov5s.pt --cache --freeze 10\n",
        "!python export.py --imgsz $img_size --weights $exp_best_w --simplify --opset 13 --include onnx \n",
        "!python val.py --imgsz $img_size --data $data_set_yaml_file --weights $exp_onnx --task test"
      ]
    },
    {
      "cell_type": "markdown",
      "metadata": {
        "id": "W-xWODceF0Q2"
      },
      "source": [
        "## Review training results"
      ]
    },
    {
      "cell_type": "markdown",
      "metadata": {
        "id": "XjCFrk6CPGgn"
      },
      "source": [
        "Display some data from the validation of the best fitting model created"
      ]
    },
    {
      "cell_type": "code",
      "execution_count": null,
      "metadata": {
        "id": "LvuMb0QGTPcL"
      },
      "outputs": [],
      "source": [
        "from IPython.display import Image\n",
        "from IPython.core.display import display \n",
        "conf_png = exp_val_folder + \"/confusion_matrix.png\"\n",
        "val_jpg = exp_val_folder + \"/val_batch0_pred.jpg\"\n",
        "display(Image(filename =conf_png, height=500),Image(filename=val_jpg, height=500))"
      ]
    },
    {
      "cell_type": "markdown",
      "metadata": {
        "id": "6hgz9m3jF3JN"
      },
      "source": [
        "## Download complete onnx YOLOv5 model"
      ]
    },
    {
      "cell_type": "markdown",
      "metadata": {
        "id": "0wK77eCRMZtf"
      },
      "source": [
        "Run the block below to download the created .onnx file or find it in your Google Drive."
      ]
    },
    {
      "cell_type": "code",
      "execution_count": null,
      "metadata": {
        "id": "OhMmCEzlxBXT"
      },
      "outputs": [],
      "source": [
        "from google.colab import files\n",
        "files.download(exp_onnx)"
      ]
    }
  ],
  "metadata": {
    "accelerator": "GPU",
    "colab": {
      "collapsed_sections": [],
      "private_outputs": true,
      "provenance": []
    },
    "gpuClass": "standard",
    "kernelspec": {
      "display_name": "Python 3.10.7 64-bit",
      "language": "python",
      "name": "python3"
    },
    "language_info": {
      "codemirror_mode": {
        "name": "ipython",
        "version": 3
      },
      "file_extension": ".py",
      "mimetype": "text/x-python",
      "name": "python",
      "nbconvert_exporter": "python",
      "pygments_lexer": "ipython3",
      "version": "3.10.7"
    },
    "vscode": {
      "interpreter": {
        "hash": "2881cb102472c0a2cc7b98c9f5b468e81049b20ea6d80c54eb33ba6f13a3277c"
      }
    }
  },
  "nbformat": 4,
  "nbformat_minor": 0
}
