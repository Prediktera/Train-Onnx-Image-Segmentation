{
  "cells": [
    {
      "cell_type": "markdown",
      "metadata": {
        "id": "2reLlaW-GZeq"
      },
      "source": [
        "# Training YOLOv5 on Colab"
      ]
    },
    {
      "cell_type": "markdown",
      "metadata": {
        "id": "pNY5cP_2GpTb"
      },
      "source": [
        "Create Folder in 'My Drive', let's call it 'project_folder'. Create folder 'datasets' in the new project folder. Import the data into 'datasets' (for example, a folder named 'NutType' with export data from Breeze)."
      ]
    },
    {
      "cell_type": "markdown",
      "metadata": {
        "id": "0nxd7hhO9n8u"
      },
      "source": [
        "    project_folder/datasets/BreezeExample/images\n",
        "                                         /labels\n",
        "                                         /coco.names\n",
        "                                         /data.yaml"
      ]
    },
    {
      "cell_type": "markdown",
      "metadata": {
        "id": "n1OXmZCpMkqd"
      },
      "source": [
        "Install relevant dependencies, this may prompt you to restart the Runtime"
      ]
    },
    {
      "cell_type": "code",
      "execution_count": null,
      "metadata": {
        "id": "5ApJ3QQNludj"
      },
      "outputs": [],
      "source": [
        "%pip install -q yolov5 onnx onnxruntime onnxruntime-gpu onnx-simplifier --extra-index-url https://download.pytorch.org/whl/cu116"
      ]
    },
    {
      "cell_type": "markdown",
      "metadata": {
        "id": "52LbbSgdC96t"
      },
      "source": [
        "Go to Runtime menu and click 'Restart runtime' or a buttom above `RESTART RUNTIME`"
      ]
    },
    {
      "cell_type": "markdown",
      "metadata": {
        "id": "XXEqD45zNeIm"
      },
      "source": [
        "## For significantly faster training use the GPU type Runtime\n",
        "First, you'll need to enable GPUs for the notebook:\n",
        "\n",
        "*   Navigate to Edit→Notebook Settings\n",
        "*   select GPU from the Hardware Accelerator drop-down\n",
        "\n",
        "The training will still work without GPU but traning time will increase dramatically. \n",
        "\n",
        "Confirm that GPU is enabled with the code below."
      ]
    },
    {
      "cell_type": "code",
      "execution_count": null,
      "metadata": {
        "id": "2dC7lr5iNdg5"
      },
      "outputs": [],
      "source": [
        "import tensorflow as tf\n",
        "if tf.test.gpu_device_name() != '/device:GPU:0':\n",
        "  raise SystemError('GPU device not found')\n",
        "print('GPU Enabled')"
      ]
    },
    {
      "cell_type": "markdown",
      "metadata": {
        "id": "x4JJfADtFtRJ"
      },
      "source": [
        "## Perpare the data"
      ]
    },
    {
      "cell_type": "markdown",
      "metadata": {
        "id": "_1arddmWO16o"
      },
      "source": [
        "Enter data name and name of yaml file in the code cell below."
      ]
    },
    {
      "cell_type": "code",
      "execution_count": null,
      "metadata": {
        "id": "nJCF5u2lHnWQ"
      },
      "outputs": [],
      "source": [
        "# data name and name of yaml file\n",
        "data_name = 'NutType'\n",
        "yaml_name = 'data.yaml'\n",
        "project_folder = 'MyDrive/project_folder/datasets'\n",
        "google_drive_mount = '/content/gdrive'\n",
        "mounded_project_folder = google_drive_mount + '/' + project_folder\n",
        "data_set_folder = mounded_project_folder + '/' + data_name\n",
        "data_set_yaml_file = data_set_folder + '/data.yaml'\n",
        "runs_folder = mounded_project_folder + '/runs'\n",
        "\n",
        "# Model information\n",
        "img_size = 96\n",
        "number_of_epochs = 300"
      ]
    },
    {
      "cell_type": "code",
      "execution_count": null,
      "metadata": {
        "id": "w1LEheluku1c"
      },
      "outputs": [],
      "source": [
        "from google.colab import drive\n",
        "drive.mount(google_drive_mount)\n",
        "%cd $mounded_project_folder"
      ]
    },
    {
      "cell_type": "markdown",
      "metadata": {
        "id": "3Xw3lriiPWqO"
      },
      "source": [
        "Fix paths in the YAML file, this is safe to run multiple times and will only update the paths if necessary"
      ]
    },
    {
      "cell_type": "code",
      "execution_count": null,
      "metadata": {
        "id": "DZeURekUJwBk"
      },
      "outputs": [],
      "source": [
        "# Fix location path in Yaml file\n",
        "import yaml\n",
        "\n",
        "with open(data_set_yaml_file, 'r+') as f:\n",
        "    data_list = yaml.load(f, Loader=yaml.FullLoader)\n",
        "    data_list['path'] = data_set_folder\n",
        "    yaml.dump(data_list, f)"
      ]
    },
    {
      "cell_type": "markdown",
      "metadata": {
        "id": "Qn21Q2GVFxeb"
      },
      "source": [
        "## Train the model"
      ]
    },
    {
      "cell_type": "markdown",
      "metadata": {
        "id": "hLjAGuVVPPJo"
      },
      "source": [
        "Train, export and validate the model using parameters set in the begining of the notebook"
      ]
    },
    {
      "cell_type": "code",
      "execution_count": null,
      "metadata": {
        "id": "JnbAnUeCb_Jz"
      },
      "outputs": [],
      "source": [
        "from yolov5 import train, val, export\n",
        "from yolov5.utils.general import increment_path\n",
        "\n",
        "exp_folder = str(increment_path(runs_folder + '/train/exp'))\n",
        "exp_val_folder = str(increment_path(runs_folder + '/val/exp'))\n",
        "exp_best_w = exp_folder + \"/weights/best.pt\"\n",
        "exp_onnx = exp_folder + \"/weights/best.onnx\"\n",
        "\n",
        "train.run(imgsz=img_size, data=data_set_yaml_file, epochs=number_of_epochs, cache='ram', batch=-1, freeze=[10],save_dir=runs_folder)\n",
        "export.run(imgsz=[img_size], weights=exp_best_w, simplify=True, opset=13, include=['onnx'], half=False)\n",
        "val.run(imgsz=img_size, data=data_set_yaml_file, weights=exp_onnx, task='test', half=False)\n"
      ]
    },
    {
      "cell_type": "markdown",
      "metadata": {
        "id": "W-xWODceF0Q2"
      },
      "source": [
        "## Review training results"
      ]
    },
    {
      "cell_type": "markdown",
      "metadata": {
        "id": "XjCFrk6CPGgn"
      },
      "source": [
        "Display some data from the validation of the best fitting model created"
      ]
    },
    {
      "cell_type": "code",
      "execution_count": null,
      "metadata": {
        "id": "LvuMb0QGTPcL"
      },
      "outputs": [],
      "source": [
        "from pickle import HIGHEST_PROTOCOL\n",
        "from IPython.display import Image\n",
        "from IPython.core.display import display,HTML \n",
        "conf_png = exp_val_folder + \"/confusion_matrix.png\"\n",
        "val_html = exp_val_folder + \"/results.html\"\n",
        "val_jpg = exp_val_folder + \"/val_batch0_pred.jpg\"\n",
        "display(HTML(filename=val_html))\n",
        "display(Image(filename =conf_png, height=500),Image(filename=val_jpg, height=500))\n",
        "\n"
      ]
    },
    {
      "cell_type": "markdown",
      "metadata": {
        "id": "6hgz9m3jF3JN"
      },
      "source": [
        "## Download complete onnx YOLOv5 model"
      ]
    },
    {
      "cell_type": "markdown",
      "metadata": {
        "id": "0wK77eCRMZtf"
      },
      "source": [
        "Run the block below to download the created .onnx file or find it in your Google Drive."
      ]
    },
    {
      "cell_type": "code",
      "execution_count": null,
      "metadata": {
        "id": "OhMmCEzlxBXT"
      },
      "outputs": [],
      "source": [
        "from google.colab import files\n",
        "files.download(exp_onnx)"
      ]
    }
  ],
  "metadata": {
    "accelerator": "GPU",
    "colab": {
      "collapsed_sections": [],
      "private_outputs": true,
      "provenance": []
    },
    "gpuClass": "standard",
    "kernelspec": {
      "display_name": "Python 3.8.10 64-bit",
      "language": "python",
      "name": "python3"
    },
    "language_info": {
      "name": "python",
      "version": "3.8.10"
    },
    "vscode": {
      "interpreter": {
        "hash": "b624277a42a1612a06dcbe8a40fc1b8a50cb094f6a7996e14905d86ee3a01972"
      }
    }
  },
  "nbformat": 4,
  "nbformat_minor": 0
}
